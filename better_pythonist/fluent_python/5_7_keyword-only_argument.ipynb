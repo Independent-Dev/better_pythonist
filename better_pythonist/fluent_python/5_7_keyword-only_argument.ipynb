{
 "cells": [
  {
   "cell_type": "code",
   "execution_count": null,
   "id": "460dd796",
   "metadata": {},
   "outputs": [],
   "source": [
    "# python 함수에서 keyword-only argument를 사용할 때 발생할 수 있는 다양한 상황들"
   ]
  },
  {
   "cell_type": "code",
   "execution_count": 7,
   "id": "b91220da",
   "metadata": {},
   "outputs": [],
   "source": [
    "def ex1(pv, *, kwv):\n",
    "    # 여기서 *에 있는 값을 가져올 수 있는가. 이건 좀 더 생각해보기\n",
    "    print(pv, kwv)"
   ]
  },
  {
   "cell_type": "code",
   "execution_count": 8,
   "id": "7958171f",
   "metadata": {},
   "outputs": [
    {
     "ename": "TypeError",
     "evalue": "ex1() takes 1 positional argument but 2 were given",
     "output_type": "error",
     "traceback": [
      "\u001B[1;31m---------------------------------------------------------------------------\u001B[0m",
      "\u001B[1;31mTypeError\u001B[0m                                 Traceback (most recent call last)",
      "\u001B[1;32m<ipython-input-8-82e3c0fbfd47>\u001B[0m in \u001B[0;36m<module>\u001B[1;34m\u001B[0m\n\u001B[1;32m----> 1\u001B[1;33m \u001B[0mex1\u001B[0m\u001B[1;33m(\u001B[0m\u001B[1;36m1\u001B[0m\u001B[1;33m,\u001B[0m \u001B[1;36m2\u001B[0m\u001B[1;33m)\u001B[0m\u001B[1;33m\u001B[0m\u001B[1;33m\u001B[0m\u001B[0m\n\u001B[0m",
      "\u001B[1;31mTypeError\u001B[0m: ex1() takes 1 positional argument but 2 were given"
     ]
    }
   ],
   "source": [
    "ex1(1, 2)"
   ]
  },
  {
   "cell_type": "code",
   "execution_count": 16,
   "id": "05bb51f2",
   "metadata": {},
   "outputs": [],
   "source": [
    "def ex2(pv, *pvs, kwv, **kwvs):\n",
    "    print(pv, pvs, kwv, kwvs)"
   ]
  },
  {
   "cell_type": "code",
   "execution_count": 17,
   "id": "0bdbf01f",
   "metadata": {},
   "outputs": [
    {
     "ename": "TypeError",
     "evalue": "ex2() missing 1 required keyword-only argument: 'kwv'",
     "output_type": "error",
     "traceback": [
      "\u001B[1;31m---------------------------------------------------------------------------\u001B[0m",
      "\u001B[1;31mTypeError\u001B[0m                                 Traceback (most recent call last)",
      "\u001B[1;32m<ipython-input-17-2896849340a5>\u001B[0m in \u001B[0;36m<module>\u001B[1;34m\u001B[0m\n\u001B[1;32m----> 1\u001B[1;33m \u001B[0mex2\u001B[0m\u001B[1;33m(\u001B[0m\u001B[1;36m1\u001B[0m\u001B[1;33m,\u001B[0m \u001B[1;36m2\u001B[0m\u001B[1;33m,\u001B[0m \u001B[1;36m3\u001B[0m\u001B[1;33m)\u001B[0m\u001B[1;33m\u001B[0m\u001B[1;33m\u001B[0m\u001B[0m\n\u001B[0m",
      "\u001B[1;31mTypeError\u001B[0m: ex2() missing 1 required keyword-only argument: 'kwv'"
     ]
    }
   ],
   "source": [
    "ex2(1, 2, 3)"
   ]
  },
  {
   "cell_type": "code",
   "execution_count": 18,
   "id": "f24bb191",
   "metadata": {},
   "outputs": [
    {
     "ename": "SyntaxError",
     "evalue": "positional argument follows keyword argument (<ipython-input-18-90ab0e2a1eae>, line 1)",
     "output_type": "error",
     "traceback": [
      "\u001B[1;36m  File \u001B[1;32m\"<ipython-input-18-90ab0e2a1eae>\"\u001B[1;36m, line \u001B[1;32m1\u001B[0m\n\u001B[1;33m    ex2(1, kwv=2, 3)\u001B[0m\n\u001B[1;37m                  ^\u001B[0m\n\u001B[1;31mSyntaxError\u001B[0m\u001B[1;31m:\u001B[0m positional argument follows keyword argument\n"
     ]
    }
   ],
   "source": [
    "ex2(1, kwv=2, 3)"
   ]
  },
  {
   "cell_type": "code",
   "execution_count": null,
   "id": "5f660545",
   "metadata": {},
   "outputs": [],
   "source": [
    "# python 함수의 올바른 이용"
   ]
  },
  {
   "cell_type": "code",
   "execution_count": 19,
   "id": "177cf84d",
   "metadata": {},
   "outputs": [
    {
     "name": "stdout",
     "output_type": "stream",
     "text": [
      "1 2\n"
     ]
    }
   ],
   "source": [
    "ex1(1, kwv=2)"
   ]
  },
  {
   "cell_type": "code",
   "execution_count": 20,
   "id": "65700278",
   "metadata": {},
   "outputs": [
    {
     "name": "stdout",
     "output_type": "stream",
     "text": [
      "1 (2, 3, 4, 5) 6 {'others': 7}\n"
     ]
    }
   ],
   "source": [
    "ex2(1, 2, 3, 4, 5, kwv=6, others=7)"
   ]
  }
 ],
 "metadata": {
  "kernelspec": {
   "display_name": "Python 3",
   "language": "python",
   "name": "python3"
  },
  "language_info": {
   "codemirror_mode": {
    "name": "ipython",
    "version": 3
   },
   "file_extension": ".py",
   "mimetype": "text/x-python",
   "name": "python",
   "nbconvert_exporter": "python",
   "pygments_lexer": "ipython3",
   "version": "3.8.0"
  }
 },
 "nbformat": 4,
 "nbformat_minor": 5
}