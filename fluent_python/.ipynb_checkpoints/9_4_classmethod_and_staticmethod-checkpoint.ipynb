{
 "cells": [
  {
   "cell_type": "code",
   "execution_count": 3,
   "id": "bf0b8c8c",
   "metadata": {},
   "outputs": [],
   "source": [
    "# 210621\n",
    "class Demo:\n",
    "    @classmethod\n",
    "    def klassmeth(*args):\n",
    "        return args\n",
    "    @staticmethod\n",
    "    def statmeth(*args):\n",
    "        return args"
   ]
  },
  {
   "cell_type": "code",
   "execution_count": 4,
   "id": "3ec77cda",
   "metadata": {},
   "outputs": [
    {
     "data": {
      "text/plain": [
       "(__main__.Demo,)"
      ]
     },
     "execution_count": 4,
     "metadata": {},
     "output_type": "execute_result"
    }
   ],
   "source": [
    "Demo.klassmeth()"
   ]
  },
  {
   "cell_type": "code",
   "execution_count": 5,
   "id": "e938e0df",
   "metadata": {},
   "outputs": [
    {
     "data": {
      "text/plain": [
       "type"
      ]
     },
     "execution_count": 5,
     "metadata": {},
     "output_type": "execute_result"
    }
   ],
   "source": [
    "type(Demo.klassmeth()[0])"
   ]
  },
  {
   "cell_type": "code",
   "execution_count": 6,
   "id": "d0df0c48",
   "metadata": {},
   "outputs": [
    {
     "data": {
      "text/plain": [
       "(__main__.Demo, 'test')"
      ]
     },
     "execution_count": 6,
     "metadata": {},
     "output_type": "execute_result"
    }
   ],
   "source": [
    "Demo.klassmeth('test')"
   ]
  },
  {
   "cell_type": "code",
   "execution_count": 7,
   "id": "edaee411",
   "metadata": {},
   "outputs": [
    {
     "data": {
      "text/plain": [
       "()"
      ]
     },
     "execution_count": 7,
     "metadata": {},
     "output_type": "execute_result"
    }
   ],
   "source": [
    "Demo.statmeth()"
   ]
  },
  {
   "cell_type": "code",
   "execution_count": 8,
   "id": "020b3bda",
   "metadata": {},
   "outputs": [
    {
     "data": {
      "text/plain": [
       "('test',)"
      ]
     },
     "execution_count": 8,
     "metadata": {},
     "output_type": "execute_result"
    }
   ],
   "source": [
    "Demo.statmeth('test')"
   ]
  }
 ],
 "metadata": {
  "kernelspec": {
   "display_name": "Python 3",
   "language": "python",
   "name": "python3"
  },
  "language_info": {
   "codemirror_mode": {
    "name": "ipython",
    "version": 3
   },
   "file_extension": ".py",
   "mimetype": "text/x-python",
   "name": "python",
   "nbconvert_exporter": "python",
   "pygments_lexer": "ipython3",
   "version": "3.7.2"
  }
 },
 "nbformat": 4,
 "nbformat_minor": 5
}
