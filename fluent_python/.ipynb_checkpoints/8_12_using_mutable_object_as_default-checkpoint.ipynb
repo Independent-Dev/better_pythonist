{
 "cells": [
  {
   "cell_type": "code",
   "execution_count": 1,
   "id": "8fc51577",
   "metadata": {},
   "outputs": [],
   "source": [
    "# 210618\n",
    "# 304 page\n",
    "class HauntedBus:\n",
    "    \"\"\"유령 승객이 출몰하는 버스 모델\"\"\"\n",
    "    \n",
    "    # 기본값으로 선언된 객체는 함수가 메모리에 로드될 때 생성되고, passenger라는 alias가 붙음.\n",
    "    # 기본값을 사용하게 되면 이 객체를 공유하면서 문제가 발생함!!\n",
    "    def __init__(self, passengers=[]):\n",
    "        self.passengers = passengers\n",
    "        \n",
    "    def pick(self, name):\n",
    "        self.passengers.append(name)\n",
    "        \n",
    "    def drop(self, name):\n",
    "        self.passengers.remove(name)"
   ]
  },
  {
   "cell_type": "code",
   "execution_count": null,
   "id": "6ac4cdc9",
   "metadata": {},
   "outputs": [],
   "source": []
  }
 ],
 "metadata": {
  "kernelspec": {
   "display_name": "Python 3",
   "language": "python",
   "name": "python3"
  },
  "language_info": {
   "codemirror_mode": {
    "name": "ipython",
    "version": 3
   },
   "file_extension": ".py",
   "mimetype": "text/x-python",
   "name": "python",
   "nbconvert_exporter": "python",
   "pygments_lexer": "ipython3",
   "version": "3.7.2"
  }
 },
 "nbformat": 4,
 "nbformat_minor": 5
}
