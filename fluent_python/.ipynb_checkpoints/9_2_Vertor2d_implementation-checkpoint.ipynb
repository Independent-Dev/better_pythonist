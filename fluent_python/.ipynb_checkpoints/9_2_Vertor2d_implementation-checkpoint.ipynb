{
 "cells": [
  {
   "cell_type": "code",
   "execution_count": null,
   "id": "ba2e420d",
   "metadata": {},
   "outputs": [],
   "source": [
    "# 210621\n",
    "from array import array\n",
    "import math\n",
    "\n",
    "class Vector2d:\n",
    "    typecode = 'd'  # Vector2d와 bytes 간의 변환에 사용하는 클래스 속성\n",
    "    \n",
    "    def __init__(self, x, y):\n",
    "        self.__x = float(x)  # 부적절한 값이 들어온 경우 캐스팅 과정에서 걸러낼 수 있음\n",
    "        self.__y = float(y)\n",
    "    \n",
    "    # 9-9\n",
    "    @property\n",
    "    def x(self):\n",
    "        return self.__x\n",
    "    \n",
    "    # 9-9\n",
    "    @property\n",
    "    def y(self):\n",
    "        return self.__y\n",
    "        \n",
    "    def __iter__(self):  # 객체를 반복가능하도록 만들어주는 메소드\n",
    "        return (i for i in self.x, self.y)\n",
    "    \n",
    "    def __repr__(self):\n",
    "        class_name = type(self).__name__\n",
    "        return '{}({!r}, {!r})'.format(class_name, *self)  # todo 여기서 !r의 의미 나중에 더 깊게 찾아볼 것\n",
    "    \n",
    "    def __str__(self):\n",
    "        return str(tuple(self))\n",
    "    \n",
    "    def __bytes__(self):\n",
    "        # 이 코드 아직 완벽하게 이해하지 못했음. \n",
    "        return (bytes([ord(self.typecode)]) + bytes(array(self.typecode, self)))\n",
    "    \n",
    "    def __eq__(self, other):\n",
    "        return tuple(self) == tuple(other)\n",
    "    \n",
    "    # 9-9\n",
    "    def __hash__(self):\n",
    "        return hash(self.x) ^ hash(self.y)  # __hash__의 특별 메서드 문서에서는 해시에 비트 단위 XOR 연산자 사용을 권한다고 함\n",
    "    \n",
    "    def __abs__(self):\n",
    "        return math.hypot(self.x, self.y)\n",
    "    \n",
    "    def __bool__(self):\n",
    "        return bool(abs(self))\n",
    "    \n",
    "    @classmethod\n",
    "    def frombytes(cls, octets):\n",
    "        # help(chr) -> Return a Unicode string of one character with ordinal i; 0 <= i <= 0x10ffff.\n",
    "        typecode = chr(octets[0])  # 첫 번째 바이트에서 typecode를 읽음\n",
    "        memv = memoryview(octets[1:]).cast(typecode)  # octets 이진 시퀀스로부터 memoryview를 생성하고 typecode를 이용해서 형을 변환\n",
    "        return cls(*memv)  # cast()가 반환한 memoryview를 언패킹해서 생성자에 필요한 인수로 전달"
   ]
  }
 ],
 "metadata": {
  "kernelspec": {
   "display_name": "Python 3",
   "language": "python",
   "name": "python3"
  },
  "language_info": {
   "codemirror_mode": {
    "name": "ipython",
    "version": 3
   },
   "file_extension": ".py",
   "mimetype": "text/x-python",
   "name": "python",
   "nbconvert_exporter": "python",
   "pygments_lexer": "ipython3",
   "version": "3.7.2"
  }
 },
 "nbformat": 4,
 "nbformat_minor": 5
}
